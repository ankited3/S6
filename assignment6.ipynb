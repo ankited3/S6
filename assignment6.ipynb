{
  "cells": [
    {
      "cell_type": "code",
      "execution_count": 1,
      "metadata": {
        "id": "33vUYPexzDQK"
      },
      "outputs": [],
      "source": [
        "from __future__ import print_function\n",
        "import torch\n",
        "import torch.nn as nn\n",
        "import torch.nn.functional as F\n",
        "import torch.optim as optim\n",
        "from torchvision import datasets, transforms"
      ]
    },
    {
      "cell_type": "code",
      "source": [
        "!git clone https://github.com/ankited3/S6.git"
      ],
      "metadata": {
        "colab": {
          "base_uri": "https://localhost:8080/"
        },
        "id": "nV6KUFVpGh8W",
        "outputId": "abb761d0-98b0-416b-e919-a8d4dfdf06c6"
      },
      "execution_count": 11,
      "outputs": [
        {
          "output_type": "stream",
          "name": "stdout",
          "text": [
            "Cloning into 'S6'...\n",
            "remote: Enumerating objects: 19, done.\u001b[K\n",
            "remote: Counting objects: 100% (19/19), done.\u001b[K\n",
            "remote: Compressing objects: 100% (10/10), done.\u001b[K\n",
            "remote: Total 19 (delta 9), reused 14 (delta 7), pack-reused 0 (from 0)\u001b[K\n",
            "Receiving objects: 100% (19/19), 8.86 KiB | 168.00 KiB/s, done.\n",
            "Resolving deltas: 100% (9/9), done.\n"
          ]
        }
      ]
    },
    {
      "cell_type": "code",
      "execution_count": 8,
      "metadata": {
        "colab": {
          "base_uri": "https://localhost:8080/"
        },
        "id": "JwkS3zx42gYG",
        "outputId": "4e4eda80-df01-41ab-8e5e-879a40abdb0d"
      },
      "outputs": [
        {
          "output_type": "stream",
          "name": "stdout",
          "text": [
            "CUDA Available? True\n"
          ]
        }
      ],
      "source": [
        "# CUDA?\n",
        "cuda = torch.cuda.is_available()\n",
        "print(\"CUDA Available?\", cuda)"
      ]
    },
    {
      "cell_type": "code",
      "source": [
        "%cd S6"
      ],
      "metadata": {
        "colab": {
          "base_uri": "https://localhost:8080/"
        },
        "id": "js6Pj2EOUiOa",
        "outputId": "60fd33ba-34fc-4669-d2f9-bee50129d753"
      },
      "execution_count": 12,
      "outputs": [
        {
          "output_type": "stream",
          "name": "stdout",
          "text": [
            "/content/S6/S6/S6\n"
          ]
        }
      ]
    },
    {
      "cell_type": "code",
      "execution_count": 4,
      "metadata": {
        "colab": {
          "base_uri": "https://localhost:8080/"
        },
        "id": "3Cw9XsNqyw3S",
        "outputId": "ecf3a3bc-71dc-461a-e111-44f94249810d"
      },
      "outputs": [
        {
          "output_type": "stream",
          "name": "stdout",
          "text": [
            "/content/S6\n"
          ]
        },
        {
          "output_type": "stream",
          "name": "stderr",
          "text": [
            "100%|██████████| 9.91M/9.91M [00:00<00:00, 18.6MB/s]\n",
            "100%|██████████| 28.9k/28.9k [00:00<00:00, 495kB/s]\n",
            "100%|██████████| 1.65M/1.65M [00:00<00:00, 4.58MB/s]\n",
            "100%|██████████| 4.54k/4.54k [00:00<00:00, 14.2MB/s]\n",
            "/usr/local/lib/python3.12/dist-packages/torch/utils/data/dataloader.py:627: UserWarning: This DataLoader will create 4 worker processes in total. Our suggested max number of worker in current system is 2, which is smaller than what this DataLoader is going to create. Please be aware that excessive worker creation might get DataLoader running slow or even freeze, lower the worker number to avoid potential slowness/freeze if necessary.\n",
            "  warnings.warn(\n"
          ]
        },
        {
          "output_type": "stream",
          "name": "stdout",
          "text": [
            "CUDA Available? True\n",
            "cuda\n",
            "----------------------------------------------------------------\n",
            "        Layer (type)               Output Shape         Param #\n",
            "================================================================\n",
            "            Conv2d-1           [-1, 10, 26, 26]              90\n",
            "              ReLU-2           [-1, 10, 26, 26]               0\n",
            "            Conv2d-3           [-1, 16, 24, 24]           1,440\n",
            "              ReLU-4           [-1, 16, 24, 24]               0\n",
            "            Conv2d-5           [-1, 20, 22, 22]           2,880\n",
            "              ReLU-6           [-1, 20, 22, 22]               0\n",
            "         MaxPool2d-7           [-1, 20, 11, 11]               0\n",
            "            Conv2d-8           [-1, 10, 11, 11]             200\n",
            "            Conv2d-9             [-1, 16, 9, 9]           1,440\n",
            "             ReLU-10             [-1, 16, 9, 9]               0\n",
            "           Conv2d-11             [-1, 20, 7, 7]           2,880\n",
            "             ReLU-12             [-1, 20, 7, 7]               0\n",
            "           Conv2d-13             [-1, 10, 7, 7]             200\n",
            "             ReLU-14             [-1, 10, 7, 7]               0\n",
            "           Conv2d-15             [-1, 10, 1, 1]           4,900\n",
            "================================================================\n",
            "Total params: 14,030\n",
            "Trainable params: 14,030\n",
            "Non-trainable params: 0\n",
            "----------------------------------------------------------------\n",
            "Input size (MB): 0.00\n",
            "Forward/backward pass size (MB): 0.46\n",
            "Params size (MB): 0.05\n",
            "Estimated Total Size (MB): 0.52\n",
            "----------------------------------------------------------------\n",
            "Model 1 EPOCH: 0\n"
          ]
        },
        {
          "output_type": "stream",
          "name": "stderr",
          "text": [
            "Loss=0.37065640091896057 Batch_id=468 Accuracy=38.66: 100%|██████████| 469/469 [00:13<00:00, 33.86it/s]\n"
          ]
        },
        {
          "output_type": "stream",
          "name": "stdout",
          "text": [
            "\n",
            "Test set: Average loss: 0.3754, Accuracy: 8871/10000 (88.71%)\n",
            "\n",
            "Model 1 EPOCH: 1\n"
          ]
        },
        {
          "output_type": "stream",
          "name": "stderr",
          "text": [
            "Loss=0.14253751933574677 Batch_id=468 Accuracy=92.66: 100%|██████████| 469/469 [00:13<00:00, 35.34it/s]\n"
          ]
        },
        {
          "output_type": "stream",
          "name": "stdout",
          "text": [
            "\n",
            "Test set: Average loss: 0.1245, Accuracy: 9599/10000 (95.99%)\n",
            "\n",
            "Model 1 EPOCH: 2\n"
          ]
        },
        {
          "output_type": "stream",
          "name": "stderr",
          "text": [
            "Loss=0.1260908842086792 Batch_id=468 Accuracy=96.71: 100%|██████████| 469/469 [00:13<00:00, 34.40it/s]\n"
          ]
        },
        {
          "output_type": "stream",
          "name": "stdout",
          "text": [
            "\n",
            "Test set: Average loss: 0.0788, Accuracy: 9756/10000 (97.56%)\n",
            "\n",
            "Model 1 EPOCH: 3\n"
          ]
        },
        {
          "output_type": "stream",
          "name": "stderr",
          "text": [
            "Loss=0.1512085348367691 Batch_id=468 Accuracy=97.61: 100%|██████████| 469/469 [00:13<00:00, 35.22it/s]\n"
          ]
        },
        {
          "output_type": "stream",
          "name": "stdout",
          "text": [
            "\n",
            "Test set: Average loss: 0.0747, Accuracy: 9764/10000 (97.64%)\n",
            "\n",
            "Model 1 EPOCH: 4\n"
          ]
        },
        {
          "output_type": "stream",
          "name": "stderr",
          "text": [
            "Loss=0.09376107901334763 Batch_id=468 Accuracy=98.01: 100%|██████████| 469/469 [00:13<00:00, 35.36it/s]\n"
          ]
        },
        {
          "output_type": "stream",
          "name": "stdout",
          "text": [
            "\n",
            "Test set: Average loss: 0.0581, Accuracy: 9810/10000 (98.10%)\n",
            "\n",
            "Model 1 EPOCH: 5\n"
          ]
        },
        {
          "output_type": "stream",
          "name": "stderr",
          "text": [
            "Loss=0.0836348906159401 Batch_id=468 Accuracy=98.34: 100%|██████████| 469/469 [00:13<00:00, 35.62it/s]\n"
          ]
        },
        {
          "output_type": "stream",
          "name": "stdout",
          "text": [
            "\n",
            "Test set: Average loss: 0.0507, Accuracy: 9826/10000 (98.26%)\n",
            "\n",
            "Model 1 EPOCH: 6\n"
          ]
        },
        {
          "output_type": "stream",
          "name": "stderr",
          "text": [
            "Loss=0.051443781703710556 Batch_id=468 Accuracy=98.48: 100%|██████████| 469/469 [00:13<00:00, 35.15it/s]\n"
          ]
        },
        {
          "output_type": "stream",
          "name": "stdout",
          "text": [
            "\n",
            "Test set: Average loss: 0.0416, Accuracy: 9863/10000 (98.63%)\n",
            "\n",
            "Model 1 EPOCH: 7\n"
          ]
        },
        {
          "output_type": "stream",
          "name": "stderr",
          "text": [
            "Loss=0.03270573168992996 Batch_id=468 Accuracy=98.59: 100%|██████████| 469/469 [00:13<00:00, 35.82it/s]\n"
          ]
        },
        {
          "output_type": "stream",
          "name": "stdout",
          "text": [
            "\n",
            "Test set: Average loss: 0.0413, Accuracy: 9865/10000 (98.65%)\n",
            "\n",
            "Model 1 EPOCH: 8\n"
          ]
        },
        {
          "output_type": "stream",
          "name": "stderr",
          "text": [
            "Loss=0.06622251868247986 Batch_id=468 Accuracy=98.72: 100%|██████████| 469/469 [00:13<00:00, 35.12it/s]\n"
          ]
        },
        {
          "output_type": "stream",
          "name": "stdout",
          "text": [
            "\n",
            "Test set: Average loss: 0.0427, Accuracy: 9860/10000 (98.60%)\n",
            "\n",
            "Model 1 EPOCH: 9\n"
          ]
        },
        {
          "output_type": "stream",
          "name": "stderr",
          "text": [
            "Loss=0.008682029321789742 Batch_id=468 Accuracy=98.85: 100%|██████████| 469/469 [00:13<00:00, 35.82it/s]\n"
          ]
        },
        {
          "output_type": "stream",
          "name": "stdout",
          "text": [
            "\n",
            "Test set: Average loss: 0.0403, Accuracy: 9864/10000 (98.64%)\n",
            "\n",
            "Model 1 EPOCH: 10\n"
          ]
        },
        {
          "output_type": "stream",
          "name": "stderr",
          "text": [
            "Loss=0.04237562417984009 Batch_id=468 Accuracy=98.89: 100%|██████████| 469/469 [00:13<00:00, 35.68it/s]\n"
          ]
        },
        {
          "output_type": "stream",
          "name": "stdout",
          "text": [
            "\n",
            "Test set: Average loss: 0.0426, Accuracy: 9866/10000 (98.66%)\n",
            "\n",
            "Model 1 EPOCH: 11\n"
          ]
        },
        {
          "output_type": "stream",
          "name": "stderr",
          "text": [
            "Loss=0.023287305608391762 Batch_id=468 Accuracy=98.93: 100%|██████████| 469/469 [00:12<00:00, 36.33it/s]\n"
          ]
        },
        {
          "output_type": "stream",
          "name": "stdout",
          "text": [
            "\n",
            "Test set: Average loss: 0.0438, Accuracy: 9857/10000 (98.57%)\n",
            "\n",
            "Model 1 EPOCH: 12\n"
          ]
        },
        {
          "output_type": "stream",
          "name": "stderr",
          "text": [
            "Loss=0.08114940673112869 Batch_id=468 Accuracy=99.06: 100%|██████████| 469/469 [00:13<00:00, 34.46it/s]\n"
          ]
        },
        {
          "output_type": "stream",
          "name": "stdout",
          "text": [
            "\n",
            "Test set: Average loss: 0.0347, Accuracy: 9882/10000 (98.82%)\n",
            "\n",
            "Model 1 EPOCH: 13\n"
          ]
        },
        {
          "output_type": "stream",
          "name": "stderr",
          "text": [
            "Loss=0.02922806888818741 Batch_id=468 Accuracy=99.08: 100%|██████████| 469/469 [00:13<00:00, 35.58it/s]\n"
          ]
        },
        {
          "output_type": "stream",
          "name": "stdout",
          "text": [
            "\n",
            "Test set: Average loss: 0.0410, Accuracy: 9860/10000 (98.60%)\n",
            "\n",
            "Model 1 EPOCH: 14\n"
          ]
        },
        {
          "output_type": "stream",
          "name": "stderr",
          "text": [
            "Loss=0.008141984231770039 Batch_id=468 Accuracy=99.13: 100%|██████████| 469/469 [00:13<00:00, 34.92it/s]\n"
          ]
        },
        {
          "output_type": "stream",
          "name": "stdout",
          "text": [
            "\n",
            "Test set: Average loss: 0.0383, Accuracy: 9883/10000 (98.83%)\n",
            "\n"
          ]
        }
      ],
      "source": [
        "# Assuming your master file is 'master_script.py' inside the cloned folder\n",
        "%run model_1.py"
      ]
    },
    {
      "cell_type": "markdown",
      "source": [
        "#Model 1\n",
        "##Target\n",
        "To have a model with basic code setup, transform, data loader, training and test loop\n",
        "##Result\n",
        "1. Parameters:14030\n",
        "2. Best Training Accuracy:99.13\n",
        "3. Best Test Accuracy:98.83\n",
        "##Analysis\n",
        "Model is good but number of parameter is more than 8k need to reduce parameters\n",
        "Model is slight overfitting but can be pushed further\n"
      ],
      "metadata": {
        "id": "EYUezQYENlWM"
      }
    },
    {
      "cell_type": "code",
      "execution_count": 5,
      "metadata": {
        "id": "B4SY7qMU712L",
        "colab": {
          "base_uri": "https://localhost:8080/"
        },
        "outputId": "18f1f407-56de-4dd9-e1f1-e76d65db45eb"
      },
      "outputs": [
        {
          "output_type": "stream",
          "name": "stdout",
          "text": [
            "CUDA Available? True\n"
          ]
        },
        {
          "output_type": "stream",
          "name": "stderr",
          "text": [
            "/usr/local/lib/python3.12/dist-packages/torchvision/datasets/mnist.py:76: UserWarning: train_data has been renamed data\n",
            "  warnings.warn(\"train_data has been renamed data\")\n"
          ]
        },
        {
          "output_type": "stream",
          "name": "stdout",
          "text": [
            "cuda\n",
            "----------------------------------------------------------------\n",
            "        Layer (type)               Output Shape         Param #\n",
            "================================================================\n",
            "            Conv2d-1            [-1, 8, 26, 26]              72\n",
            "              ReLU-2            [-1, 8, 26, 26]               0\n",
            "       BatchNorm2d-3            [-1, 8, 26, 26]              16\n",
            "           Dropout-4            [-1, 8, 26, 26]               0\n",
            "            Conv2d-5           [-1, 12, 24, 24]             864\n",
            "              ReLU-6           [-1, 12, 24, 24]               0\n",
            "       BatchNorm2d-7           [-1, 12, 24, 24]              24\n",
            "           Dropout-8           [-1, 12, 24, 24]               0\n",
            "            Conv2d-9           [-1, 16, 24, 24]             192\n",
            "        MaxPool2d-10           [-1, 16, 12, 12]               0\n",
            "           Conv2d-11           [-1, 12, 10, 10]           1,728\n",
            "             ReLU-12           [-1, 12, 10, 10]               0\n",
            "      BatchNorm2d-13           [-1, 12, 10, 10]              24\n",
            "          Dropout-14           [-1, 12, 10, 10]               0\n",
            "           Conv2d-15             [-1, 16, 8, 8]           1,728\n",
            "             ReLU-16             [-1, 16, 8, 8]               0\n",
            "      BatchNorm2d-17             [-1, 16, 8, 8]              32\n",
            "          Dropout-18             [-1, 16, 8, 8]               0\n",
            "           Conv2d-19             [-1, 12, 6, 6]           1,728\n",
            "             ReLU-20             [-1, 12, 6, 6]               0\n",
            "      BatchNorm2d-21             [-1, 12, 6, 6]              24\n",
            "          Dropout-22             [-1, 12, 6, 6]               0\n",
            "           Conv2d-23             [-1, 10, 6, 6]           1,080\n",
            "             ReLU-24             [-1, 10, 6, 6]               0\n",
            "      BatchNorm2d-25             [-1, 10, 6, 6]              20\n",
            "          Dropout-26             [-1, 10, 6, 6]               0\n",
            "        AvgPool2d-27             [-1, 10, 1, 1]               0\n",
            "           Conv2d-28             [-1, 10, 1, 1]             100\n",
            "================================================================\n",
            "Total params: 7,632\n",
            "Trainable params: 7,632\n",
            "Non-trainable params: 0\n",
            "----------------------------------------------------------------\n",
            "Input size (MB): 0.00\n",
            "Forward/backward pass size (MB): 0.56\n",
            "Params size (MB): 0.03\n",
            "Estimated Total Size (MB): 0.59\n",
            "----------------------------------------------------------------\n",
            "Model 2 EPOCH: 0\n"
          ]
        },
        {
          "output_type": "stream",
          "name": "stderr",
          "text": [
            "Loss=0.06956028938293457 Batch_id=468 Accuracy=89.40: 100%|██████████| 469/469 [00:13<00:00, 35.08it/s]\n"
          ]
        },
        {
          "output_type": "stream",
          "name": "stdout",
          "text": [
            "\n",
            "Test set: Average loss: 0.0701, Accuracy: 9805/10000 (98.05%)\n",
            "\n",
            "Model 2 EPOCH: 1\n"
          ]
        },
        {
          "output_type": "stream",
          "name": "stderr",
          "text": [
            "Loss=0.05645255371928215 Batch_id=468 Accuracy=98.01: 100%|██████████| 469/469 [00:13<00:00, 35.54it/s]\n"
          ]
        },
        {
          "output_type": "stream",
          "name": "stdout",
          "text": [
            "\n",
            "Test set: Average loss: 0.0529, Accuracy: 9839/10000 (98.39%)\n",
            "\n",
            "Model 2 EPOCH: 2\n"
          ]
        },
        {
          "output_type": "stream",
          "name": "stderr",
          "text": [
            "Loss=0.025395462289452553 Batch_id=468 Accuracy=98.52: 100%|██████████| 469/469 [00:13<00:00, 35.23it/s]\n"
          ]
        },
        {
          "output_type": "stream",
          "name": "stdout",
          "text": [
            "\n",
            "Test set: Average loss: 0.0377, Accuracy: 9880/10000 (98.80%)\n",
            "\n",
            "Model 2 EPOCH: 3\n"
          ]
        },
        {
          "output_type": "stream",
          "name": "stderr",
          "text": [
            "Loss=0.09736192971467972 Batch_id=468 Accuracy=98.71: 100%|██████████| 469/469 [00:13<00:00, 35.78it/s]\n"
          ]
        },
        {
          "output_type": "stream",
          "name": "stdout",
          "text": [
            "\n",
            "Test set: Average loss: 0.0366, Accuracy: 9876/10000 (98.76%)\n",
            "\n",
            "Model 2 EPOCH: 4\n"
          ]
        },
        {
          "output_type": "stream",
          "name": "stderr",
          "text": [
            "Loss=0.010401505045592785 Batch_id=468 Accuracy=98.83: 100%|██████████| 469/469 [00:13<00:00, 35.26it/s]\n"
          ]
        },
        {
          "output_type": "stream",
          "name": "stdout",
          "text": [
            "\n",
            "Test set: Average loss: 0.0376, Accuracy: 9878/10000 (98.78%)\n",
            "\n",
            "Model 2 EPOCH: 5\n"
          ]
        },
        {
          "output_type": "stream",
          "name": "stderr",
          "text": [
            "Loss=0.026180721819400787 Batch_id=468 Accuracy=98.92: 100%|██████████| 469/469 [00:12<00:00, 36.12it/s]\n"
          ]
        },
        {
          "output_type": "stream",
          "name": "stdout",
          "text": [
            "\n",
            "Test set: Average loss: 0.0313, Accuracy: 9901/10000 (99.01%)\n",
            "\n",
            "Model 2 EPOCH: 6\n"
          ]
        },
        {
          "output_type": "stream",
          "name": "stderr",
          "text": [
            "Loss=0.052813220769166946 Batch_id=468 Accuracy=99.01: 100%|██████████| 469/469 [00:13<00:00, 35.29it/s]\n"
          ]
        },
        {
          "output_type": "stream",
          "name": "stdout",
          "text": [
            "\n",
            "Test set: Average loss: 0.0274, Accuracy: 9903/10000 (99.03%)\n",
            "\n",
            "Model 2 EPOCH: 7\n"
          ]
        },
        {
          "output_type": "stream",
          "name": "stderr",
          "text": [
            "Loss=0.030792340636253357 Batch_id=468 Accuracy=99.09: 100%|██████████| 469/469 [00:13<00:00, 35.64it/s]\n"
          ]
        },
        {
          "output_type": "stream",
          "name": "stdout",
          "text": [
            "\n",
            "Test set: Average loss: 0.0325, Accuracy: 9896/10000 (98.96%)\n",
            "\n",
            "Model 2 EPOCH: 8\n"
          ]
        },
        {
          "output_type": "stream",
          "name": "stderr",
          "text": [
            "Loss=0.014338679611682892 Batch_id=468 Accuracy=99.14: 100%|██████████| 469/469 [00:13<00:00, 35.44it/s]\n"
          ]
        },
        {
          "output_type": "stream",
          "name": "stdout",
          "text": [
            "\n",
            "Test set: Average loss: 0.0245, Accuracy: 9919/10000 (99.19%)\n",
            "\n",
            "Model 2 EPOCH: 9\n"
          ]
        },
        {
          "output_type": "stream",
          "name": "stderr",
          "text": [
            "Loss=0.008646237663924694 Batch_id=468 Accuracy=99.23: 100%|██████████| 469/469 [00:13<00:00, 36.04it/s]\n"
          ]
        },
        {
          "output_type": "stream",
          "name": "stdout",
          "text": [
            "\n",
            "Test set: Average loss: 0.0227, Accuracy: 9926/10000 (99.26%)\n",
            "\n",
            "Model 2 EPOCH: 10\n"
          ]
        },
        {
          "output_type": "stream",
          "name": "stderr",
          "text": [
            "Loss=0.04673122987151146 Batch_id=468 Accuracy=99.23: 100%|██████████| 469/469 [00:13<00:00, 35.09it/s]\n"
          ]
        },
        {
          "output_type": "stream",
          "name": "stdout",
          "text": [
            "\n",
            "Test set: Average loss: 0.0237, Accuracy: 9913/10000 (99.13%)\n",
            "\n",
            "Model 2 EPOCH: 11\n"
          ]
        },
        {
          "output_type": "stream",
          "name": "stderr",
          "text": [
            "Loss=0.019146980717778206 Batch_id=468 Accuracy=99.30: 100%|██████████| 469/469 [00:13<00:00, 35.67it/s]\n"
          ]
        },
        {
          "output_type": "stream",
          "name": "stdout",
          "text": [
            "\n",
            "Test set: Average loss: 0.0244, Accuracy: 9923/10000 (99.23%)\n",
            "\n",
            "Model 2 EPOCH: 12\n"
          ]
        },
        {
          "output_type": "stream",
          "name": "stderr",
          "text": [
            "Loss=0.05278274044394493 Batch_id=468 Accuracy=99.29: 100%|██████████| 469/469 [00:13<00:00, 35.55it/s]\n"
          ]
        },
        {
          "output_type": "stream",
          "name": "stdout",
          "text": [
            "\n",
            "Test set: Average loss: 0.0246, Accuracy: 9917/10000 (99.17%)\n",
            "\n",
            "Model 2 EPOCH: 13\n"
          ]
        },
        {
          "output_type": "stream",
          "name": "stderr",
          "text": [
            "Loss=0.08865227550268173 Batch_id=468 Accuracy=99.34: 100%|██████████| 469/469 [00:13<00:00, 35.30it/s]\n"
          ]
        },
        {
          "output_type": "stream",
          "name": "stdout",
          "text": [
            "\n",
            "Test set: Average loss: 0.0264, Accuracy: 9911/10000 (99.11%)\n",
            "\n",
            "Model 2 EPOCH: 14\n"
          ]
        },
        {
          "output_type": "stream",
          "name": "stderr",
          "text": [
            "Loss=0.023110099136829376 Batch_id=468 Accuracy=99.35: 100%|██████████| 469/469 [00:13<00:00, 35.37it/s]\n"
          ]
        },
        {
          "output_type": "stream",
          "name": "stdout",
          "text": [
            "\n",
            "Test set: Average loss: 0.0239, Accuracy: 9922/10000 (99.22%)\n",
            "\n"
          ]
        }
      ],
      "source": [
        "%run model_2.py"
      ]
    },
    {
      "cell_type": "markdown",
      "source": [
        "#Model 2\n",
        "##Target\n",
        "To have a model similar to model 1 but with less than 8k parameters by using GAP layer, batch normalization so that model parameter can be reduced, need to reduce over fitting by adding drop out\n",
        "##Result\n",
        "1. Parameters:7632\n",
        "2. Best Training Accuracy:99.35\n",
        "3. Best Test Accuracy:99.23\n",
        "##Analysis\n",
        "1. Model is better and number of parameter are under 8k\n",
        "2. Model is overfitting but overfitting is lesser compare to model 1\n",
        "3. Model is still not touching 99.4 test accuracy\n",
        "\n"
      ],
      "metadata": {
        "id": "5D7Z8wBTN450"
      }
    },
    {
      "cell_type": "code",
      "source": [
        "%run model_3.py"
      ],
      "metadata": {
        "id": "UW2UT5d9N-8G",
        "colab": {
          "base_uri": "https://localhost:8080/"
        },
        "outputId": "ccea33a3-f55f-4e60-9194-b982bd5b73c7"
      },
      "execution_count": 13,
      "outputs": [
        {
          "output_type": "stream",
          "name": "stderr",
          "text": [
            "100%|██████████| 9.91M/9.91M [00:00<00:00, 18.6MB/s]\n",
            "100%|██████████| 28.9k/28.9k [00:00<00:00, 497kB/s]\n",
            "100%|██████████| 1.65M/1.65M [00:00<00:00, 4.60MB/s]\n",
            "100%|██████████| 4.54k/4.54k [00:00<00:00, 12.1MB/s]\n"
          ]
        },
        {
          "output_type": "stream",
          "name": "stdout",
          "text": [
            "CUDA Available? True\n",
            "----------------------------------------------------------------\n",
            "        Layer (type)               Output Shape         Param #\n",
            "================================================================\n",
            "            Conv2d-1            [-1, 8, 26, 26]              72\n",
            "              ReLU-2            [-1, 8, 26, 26]               0\n",
            "       BatchNorm2d-3            [-1, 8, 26, 26]              16\n",
            "           Dropout-4            [-1, 8, 26, 26]               0\n",
            "            Conv2d-5           [-1, 12, 24, 24]             864\n",
            "              ReLU-6           [-1, 12, 24, 24]               0\n",
            "       BatchNorm2d-7           [-1, 12, 24, 24]              24\n",
            "           Dropout-8           [-1, 12, 24, 24]               0\n",
            "            Conv2d-9           [-1, 16, 24, 24]             192\n",
            "        MaxPool2d-10           [-1, 16, 12, 12]               0\n",
            "           Conv2d-11           [-1, 12, 10, 10]           1,728\n",
            "             ReLU-12           [-1, 12, 10, 10]               0\n",
            "      BatchNorm2d-13           [-1, 12, 10, 10]              24\n",
            "          Dropout-14           [-1, 12, 10, 10]               0\n",
            "           Conv2d-15             [-1, 16, 8, 8]           1,728\n",
            "             ReLU-16             [-1, 16, 8, 8]               0\n",
            "      BatchNorm2d-17             [-1, 16, 8, 8]              32\n",
            "          Dropout-18             [-1, 16, 8, 8]               0\n",
            "           Conv2d-19             [-1, 12, 6, 6]           1,728\n",
            "             ReLU-20             [-1, 12, 6, 6]               0\n",
            "      BatchNorm2d-21             [-1, 12, 6, 6]              24\n",
            "          Dropout-22             [-1, 12, 6, 6]               0\n",
            "           Conv2d-23             [-1, 10, 6, 6]           1,080\n",
            "             ReLU-24             [-1, 10, 6, 6]               0\n",
            "      BatchNorm2d-25             [-1, 10, 6, 6]              20\n",
            "          Dropout-26             [-1, 10, 6, 6]               0\n",
            "        AvgPool2d-27             [-1, 10, 1, 1]               0\n",
            "           Conv2d-28             [-1, 10, 1, 1]             100\n",
            "================================================================\n",
            "Total params: 7,632\n",
            "Trainable params: 7,632\n",
            "Non-trainable params: 0\n",
            "----------------------------------------------------------------\n",
            "Input size (MB): 0.00\n",
            "Forward/backward pass size (MB): 0.56\n",
            "Params size (MB): 0.03\n",
            "Estimated Total Size (MB): 0.59\n",
            "----------------------------------------------------------------\n",
            "Model 3 EPOCH: 0\n"
          ]
        },
        {
          "output_type": "stream",
          "name": "stderr",
          "text": [
            "Train: Loss=0.0761 Batch_id=937 Accuracy=93.76: 100%|██████████| 938/938 [00:23<00:00, 40.45it/s]\n"
          ]
        },
        {
          "output_type": "stream",
          "name": "stdout",
          "text": [
            "\n",
            "Test set: Average loss: 0.0009, Accuracy: 9801/10000 (98.01%)\n",
            "\n",
            "Model 3 EPOCH: 1\n"
          ]
        },
        {
          "output_type": "stream",
          "name": "stderr",
          "text": [
            "Train: Loss=0.0386 Batch_id=937 Accuracy=97.53: 100%|██████████| 938/938 [00:22<00:00, 41.24it/s]\n"
          ]
        },
        {
          "output_type": "stream",
          "name": "stdout",
          "text": [
            "\n",
            "Test set: Average loss: 0.0006, Accuracy: 9878/10000 (98.78%)\n",
            "\n",
            "Model 3 EPOCH: 2\n"
          ]
        },
        {
          "output_type": "stream",
          "name": "stderr",
          "text": [
            "Train: Loss=0.0064 Batch_id=937 Accuracy=98.00: 100%|██████████| 938/938 [00:22<00:00, 41.25it/s]\n"
          ]
        },
        {
          "output_type": "stream",
          "name": "stdout",
          "text": [
            "\n",
            "Test set: Average loss: 0.0004, Accuracy: 9908/10000 (99.08%)\n",
            "\n",
            "Model 3 EPOCH: 3\n"
          ]
        },
        {
          "output_type": "stream",
          "name": "stderr",
          "text": [
            "Train: Loss=0.0899 Batch_id=937 Accuracy=98.14: 100%|██████████| 938/938 [00:22<00:00, 41.10it/s]\n"
          ]
        },
        {
          "output_type": "stream",
          "name": "stdout",
          "text": [
            "\n",
            "Test set: Average loss: 0.0007, Accuracy: 9854/10000 (98.54%)\n",
            "\n",
            "Model 3 EPOCH: 4\n"
          ]
        },
        {
          "output_type": "stream",
          "name": "stderr",
          "text": [
            "Train: Loss=0.0023 Batch_id=937 Accuracy=98.90: 100%|██████████| 938/938 [00:22<00:00, 40.89it/s]\n"
          ]
        },
        {
          "output_type": "stream",
          "name": "stdout",
          "text": [
            "\n",
            "Test set: Average loss: 0.0003, Accuracy: 9932/10000 (99.32%)\n",
            "\n",
            "Model 3 EPOCH: 5\n"
          ]
        },
        {
          "output_type": "stream",
          "name": "stderr",
          "text": [
            "Train: Loss=0.0628 Batch_id=937 Accuracy=98.98: 100%|██████████| 938/938 [00:22<00:00, 41.37it/s]\n"
          ]
        },
        {
          "output_type": "stream",
          "name": "stdout",
          "text": [
            "\n",
            "Test set: Average loss: 0.0003, Accuracy: 9937/10000 (99.37%)\n",
            "\n",
            "Model 3 EPOCH: 6\n"
          ]
        },
        {
          "output_type": "stream",
          "name": "stderr",
          "text": [
            "Train: Loss=0.0021 Batch_id=937 Accuracy=99.03: 100%|██████████| 938/938 [00:24<00:00, 38.38it/s]\n"
          ]
        },
        {
          "output_type": "stream",
          "name": "stdout",
          "text": [
            "\n",
            "Test set: Average loss: 0.0003, Accuracy: 9935/10000 (99.35%)\n",
            "\n",
            "Model 3 EPOCH: 7\n"
          ]
        },
        {
          "output_type": "stream",
          "name": "stderr",
          "text": [
            "Train: Loss=0.0300 Batch_id=937 Accuracy=99.10: 100%|██████████| 938/938 [00:23<00:00, 40.16it/s]\n"
          ]
        },
        {
          "output_type": "stream",
          "name": "stdout",
          "text": [
            "\n",
            "Test set: Average loss: 0.0003, Accuracy: 9944/10000 (99.44%)\n",
            "\n",
            "Model 3 EPOCH: 8\n"
          ]
        },
        {
          "output_type": "stream",
          "name": "stderr",
          "text": [
            "Train: Loss=0.0224 Batch_id=937 Accuracy=99.12: 100%|██████████| 938/938 [00:23<00:00, 39.85it/s]\n"
          ]
        },
        {
          "output_type": "stream",
          "name": "stdout",
          "text": [
            "\n",
            "Test set: Average loss: 0.0003, Accuracy: 9943/10000 (99.43%)\n",
            "\n",
            "Model 3 EPOCH: 9\n"
          ]
        },
        {
          "output_type": "stream",
          "name": "stderr",
          "text": [
            "Train: Loss=0.0026 Batch_id=937 Accuracy=99.21: 100%|██████████| 938/938 [00:23<00:00, 40.63it/s]\n"
          ]
        },
        {
          "output_type": "stream",
          "name": "stdout",
          "text": [
            "\n",
            "Test set: Average loss: 0.0003, Accuracy: 9946/10000 (99.46%)\n",
            "\n",
            "Model 3 EPOCH: 10\n"
          ]
        },
        {
          "output_type": "stream",
          "name": "stderr",
          "text": [
            "Train: Loss=0.0617 Batch_id=937 Accuracy=99.22: 100%|██████████| 938/938 [00:23<00:00, 40.51it/s]\n"
          ]
        },
        {
          "output_type": "stream",
          "name": "stdout",
          "text": [
            "\n",
            "Test set: Average loss: 0.0003, Accuracy: 9945/10000 (99.45%)\n",
            "\n",
            "Model 3 EPOCH: 11\n"
          ]
        },
        {
          "output_type": "stream",
          "name": "stderr",
          "text": [
            "Train: Loss=0.0122 Batch_id=937 Accuracy=99.21: 100%|██████████| 938/938 [00:23<00:00, 40.60it/s]\n"
          ]
        },
        {
          "output_type": "stream",
          "name": "stdout",
          "text": [
            "\n",
            "Test set: Average loss: 0.0003, Accuracy: 9939/10000 (99.39%)\n",
            "\n",
            "Model 3 EPOCH: 12\n"
          ]
        },
        {
          "output_type": "stream",
          "name": "stderr",
          "text": [
            "Train: Loss=0.0360 Batch_id=937 Accuracy=99.25: 100%|██████████| 938/938 [00:22<00:00, 41.70it/s]\n"
          ]
        },
        {
          "output_type": "stream",
          "name": "stdout",
          "text": [
            "\n",
            "Test set: Average loss: 0.0003, Accuracy: 9940/10000 (99.40%)\n",
            "\n",
            "Model 3 EPOCH: 13\n"
          ]
        },
        {
          "output_type": "stream",
          "name": "stderr",
          "text": [
            "Train: Loss=0.0376 Batch_id=937 Accuracy=99.21: 100%|██████████| 938/938 [00:22<00:00, 41.37it/s]\n"
          ]
        },
        {
          "output_type": "stream",
          "name": "stdout",
          "text": [
            "\n",
            "Test set: Average loss: 0.0003, Accuracy: 9944/10000 (99.44%)\n",
            "\n",
            "Model 3 EPOCH: 14\n"
          ]
        },
        {
          "output_type": "stream",
          "name": "stderr",
          "text": [
            "Train: Loss=0.0030 Batch_id=937 Accuracy=99.24: 100%|██████████| 938/938 [00:22<00:00, 41.60it/s]\n"
          ]
        },
        {
          "output_type": "stream",
          "name": "stdout",
          "text": [
            "\n",
            "Test set: Average loss: 0.0003, Accuracy: 9941/10000 (99.41%)\n",
            "\n"
          ]
        }
      ]
    },
    {
      "cell_type": "markdown",
      "source": [
        "#Model 3\n",
        "##Target\n",
        "1. To have a model similar to model 2 but with higher test accuracy consistenly above 99.4%,\n",
        "2. Need to train better as last model is still overfitting with the help of image augmentation and will be playing naively with Adam optimizer and Scheduler to improve the accuracy\n",
        "##Result\n",
        "1. Parameters:7632\n",
        "2. Best Training Accuracy:99.46\n",
        "3. Best Test Accuracy:99.24\n",
        "##Analysis\n",
        "1. Model is quite good and number of parameter are under 8k\n",
        "2. Model is underfitting as training accuracy is less than test accuracy\n",
        "3. Model is consistently above 99.4% after epoch 9\n",
        "\n"
      ],
      "metadata": {
        "id": "bKa2lgY0OFAn"
      }
    },
    {
      "cell_type": "code",
      "source": [],
      "metadata": {
        "id": "-WguHwKNazaT"
      },
      "execution_count": null,
      "outputs": []
    }
  ],
  "metadata": {
    "accelerator": "GPU",
    "colab": {
      "gpuType": "T4",
      "provenance": []
    },
    "kernelspec": {
      "display_name": "Python 3",
      "name": "python3"
    },
    "language_info": {
      "name": "python"
    }
  },
  "nbformat": 4,
  "nbformat_minor": 0
}